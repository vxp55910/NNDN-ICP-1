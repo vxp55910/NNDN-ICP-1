{
 "cells": [
  {
   "cell_type": "code",
   "execution_count": null,
   "id": "e2957013",
   "metadata": {},
   "outputs": [
    {
     "name": "stdout",
     "output_type": "stream",
     "text": [
      "Enter a string: python\n",
      "Reversed string: noht\n",
      "Enter the first number: 10\n",
      "Enter the second number: 20\n",
      "Addition: 30.0\n",
      "Subtraction: -10.0\n",
      "Multiplication: 200.0\n",
      "Division: 0.5\n"
     ]
    }
   ],
   "source": [
    "input1 = list(input(\"Enter a string: \"))\n",
    "if len(input1) >= 2:\n",
    "    del input1[:2]\n",
    "\n",
    "reversed_string = ''.join(input1[::-1])\n",
    "\n",
    "\n",
    "print(\"Reversed string:\", reversed_string)\n",
    "\n",
    "n1 = float(input(\"Enter the first number: \"))\n",
    "n2 = float(input(\"Enter the second number: \"))\n",
    "\n",
    "add = n1 + n2\n",
    "sub = n1 - n2\n",
    "multiply = n1 * n2\n",
    "division = n1 / n2\n",
    "\n",
    "print(\"Addition:\", add)\n",
    "print(\"Subtraction:\", sub)\n",
    "print(\"Multiplication:\", multiply)\n",
    "print(\"Division:\", division)"
   ]
  },
  {
   "cell_type": "code",
   "execution_count": 2,
   "id": "a666e2a6",
   "metadata": {},
   "outputs": [
    {
     "name": "stdout",
     "output_type": "stream",
     "text": [
      "Enter a sentence: python is a programming language\n",
      "Modified sentence: pythons is a programming language\n"
     ]
    }
   ],
   "source": [
    "sentence1 = input(\"Enter a sentence: \")\n",
    "sentence2 = sentence1.replace('python', 'pythons')\n",
    "print(\"Modified sentence:\", sentence2)\n"
   ]
  },
  {
   "cell_type": "code",
   "execution_count": 3,
   "id": "68b7a0ed",
   "metadata": {},
   "outputs": [
    {
     "name": "stdout",
     "output_type": "stream",
     "text": [
      "Enter your marks95\n",
      "A\n"
     ]
    }
   ],
   "source": [
    "input1= float(input(\"Enter your marks\"))\n",
    "if 90 <= input1 <=100:\n",
    "    print(\"A\")\n",
    "elif input1 >= 80:\n",
    "    print(\"B\")\n",
    "elif input1 >= 70:\n",
    "    print(\"C\")\n",
    "elif input1 >= 60:\n",
    "    print(\"D\")\n",
    "else :\n",
    "    print(\"F\")\n"
   ]
  },
  {
   "cell_type": "code",
   "execution_count": null,
   "id": "df87fdf6",
   "metadata": {},
   "outputs": [],
   "source": []
  }
 ],
 "metadata": {
  "kernelspec": {
   "display_name": "Python 3 (ipykernel)",
   "language": "python",
   "name": "python3"
  },
  "language_info": {
   "codemirror_mode": {
    "name": "ipython",
    "version": 3
   },
   "file_extension": ".py",
   "mimetype": "text/x-python",
   "name": "python",
   "nbconvert_exporter": "python",
   "pygments_lexer": "ipython3",
   "version": "3.10.9"
  }
 },
 "nbformat": 4,
 "nbformat_minor": 5
}
